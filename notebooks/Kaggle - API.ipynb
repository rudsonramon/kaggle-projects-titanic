{
 "cells": [
  {
   "cell_type": "markdown",
   "metadata": {},
   "source": [
    "## Extracting Titanic Disaster Data From Kaggle"
   ]
  },
  {
   "cell_type": "code",
   "execution_count": 59,
   "metadata": {},
   "outputs": [
    {
     "name": "stdout",
     "output_type": "stream",
     "text": [
      "Requirement already satisfied: kaggle in c:\\programdata\\anaconda3\\lib\\site-packages\n",
      "Requirement already satisfied: six>=1.10 in c:\\programdata\\anaconda3\\lib\\site-packages (from kaggle)\n",
      "Requirement already satisfied: urllib3>=1.15 in c:\\programdata\\anaconda3\\lib\\site-packages (from kaggle)\n",
      "Requirement already satisfied: certifi in c:\\programdata\\anaconda3\\lib\\site-packages (from kaggle)\n",
      "Requirement already satisfied: python-dateutil in c:\\programdata\\anaconda3\\lib\\site-packages (from kaggle)\n"
     ]
    }
   ],
   "source": [
    "# install the Kaggle API\n",
    "!pip install kaggle"
   ]
  },
  {
   "cell_type": "code",
   "execution_count": 60,
   "metadata": {},
   "outputs": [
    {
     "name": "stdout",
     "output_type": "stream",
     "text": [
      "ref      deadline             category            reward  teamCount  userHasEntered  \n",
      "-------  -------------------  ---------------  ---------  ---------  --------------  \n",
      "titanic  2020-04-07 00:00:00  Getting Started  Knowledge      10265            True  \n"
     ]
    }
   ],
   "source": [
    "## check the list of competitions (list with all the competitions)\n",
    "#!kaggle competitions list\n",
    "\n",
    "#!kaggle competitions list -s <Keywords> (inform a keyword to filter)\n",
    "!kaggle competitions list -s titanic"
   ]
  },
  {
   "cell_type": "code",
   "execution_count": 61,
   "metadata": {},
   "outputs": [
    {
     "name": "stdout",
     "output_type": "stream",
     "text": [
      "No submissions found\n"
     ]
    }
   ],
   "source": [
    "## kaggle competitions submissions  -c <COMPETITION_NAME>\n",
    "## verify your active submissions\n",
    "!kaggle competitions submissions  -c titanic"
   ]
  },
  {
   "cell_type": "markdown",
   "metadata": {},
   "source": [
    "### Para consultar os arquivos submetidos aos projeto, utilize os comandos abaixo.\n",
    "    ### !kaggle competitions submit [-h] -c titanic -f FILE -m MESSAGE\n",
    "    ### filter your data to find more details about the submission"
   ]
  },
  {
   "cell_type": "code",
   "execution_count": 62,
   "metadata": {},
   "outputs": [
    {
     "name": "stdout",
     "output_type": "stream",
     "text": [
      "train.csv: Skipping, found more recently modified local copy (use --force to force download)\n",
      "test.csv: Skipping, found more recently modified local copy (use --force to force download)\n",
      "gender_submission.csv: Skipping, found more recently modified local copy (use --force to force download)\n"
     ]
    }
   ],
   "source": [
    "## Download the files of the competition ## !kaggle competitions download -c [COMPETITION]\n",
    "!kaggle competitions download -c titanic"
   ]
  },
  {
   "cell_type": "markdown",
   "metadata": {},
   "source": [
    "### Consultar se os arquivos constam na pasta, corretamente"
   ]
  },
  {
   "cell_type": "code",
   "execution_count": 63,
   "metadata": {},
   "outputs": [
    {
     "name": "stdout",
     "output_type": "stream",
     "text": [
      " Volume in drive C is OSDisk\n",
      " Volume Serial Number is 0E0B-E93A\n",
      "\n",
      " Directory of C:\\Users\\rudson.r.rodrigues\\.kaggle\\competitions\\titanic\n",
      "\n",
      "12/03/2018  17:06    <DIR>          .\n",
      "12/03/2018  17:06    <DIR>          ..\n",
      "08/03/2018  18:19             3.258 gender_submission.csv\n",
      "08/03/2018  18:19            28.629 test.csv\n",
      "08/03/2018  18:19            61.194 train.csv\n",
      "               3 File(s)         93.081 bytes\n",
      "               2 Dir(s)  77.851.553.792 bytes free\n"
     ]
    }
   ],
   "source": [
    "# comando 'dir' para verificar a pasta de download - KAGGLE\n",
    "!dir ..\\..\\.kaggle\\competitions\\titanic"
   ]
  },
  {
   "cell_type": "markdown",
   "metadata": {},
   "source": [
    "### Abaixo está como o curso (pluralsight) fazia para poder baixar os arquivos, antes da API."
   ]
  },
  {
   "cell_type": "code",
   "execution_count": 10,
   "metadata": {},
   "outputs": [
    {
     "name": "stdout",
     "output_type": "stream",
     "text": [
      "Requirement already satisfied: python-dotenv in c:\\programdata\\anaconda3\\lib\\site-packages\n"
     ]
    }
   ],
   "source": [
    "!pip install python-dotenv"
   ]
  },
  {
   "cell_type": "code",
   "execution_count": 11,
   "metadata": {},
   "outputs": [],
   "source": [
    "from dotenv import load_dotenv, find_dotenv"
   ]
  },
  {
   "cell_type": "code",
   "execution_count": 12,
   "metadata": {},
   "outputs": [
    {
     "data": {
      "text/plain": [
       "True"
      ]
     },
     "execution_count": 12,
     "metadata": {},
     "output_type": "execute_result"
    }
   ],
   "source": [
    "# find .env automatically by walking up directories until it's found\n",
    "dotenv_path = find_dotenv()\n",
    "# load up the entries as environment variables\n",
    "load_dotenv(dotenv_path)"
   ]
  },
  {
   "cell_type": "code",
   "execution_count": 18,
   "metadata": {},
   "outputs": [
    {
     "name": "stdout",
     "output_type": "stream",
     "text": [
      "rudsonTest asdf\\xc3\\xa7lkjasdf\\xc3\\xa7lkj\n"
     ]
    }
   ],
   "source": [
    "# extracting environment variable using os.environ.get\n",
    "# esse passos foram mantidos apenas para mostrar o uso do dotenv, o fluxo de download agora é pela API\n",
    "import os\n",
    "KAGGLE_USERNAME = os.environ.get(\"KAGGLE_USERNAME\")\n",
    "KAGGLE_PASSWORD = os.environ.get(\"KAGGLE_PASSWORD\")\n",
    "print(KAGGLE_USERNAME, KAGGLE_PASSWORD)"
   ]
  },
  {
   "cell_type": "code",
   "execution_count": 19,
   "metadata": {},
   "outputs": [
    {
     "name": "stdout",
     "output_type": "stream",
     "text": [
      "Requirement already satisfied: kaggle in c:\\programdata\\anaconda3\\lib\\site-packages\n",
      "Requirement already satisfied: python-dateutil in c:\\programdata\\anaconda3\\lib\\site-packages (from kaggle)\n",
      "Requirement already satisfied: six>=1.10 in c:\\programdata\\anaconda3\\lib\\site-packages (from kaggle)\n",
      "Requirement already satisfied: urllib3>=1.15 in c:\\programdata\\anaconda3\\lib\\site-packages (from kaggle)\n",
      "Requirement already satisfied: certifi in c:\\programdata\\anaconda3\\lib\\site-packages (from kaggle)\n"
     ]
    }
   ],
   "source": [
    "# imports\n",
    "import requests\n",
    "from requests import session\n",
    "import os\n",
    "from dotenv import load_dotenv, find_dotenv"
   ]
  },
  {
   "cell_type": "code",
   "execution_count": 24,
   "metadata": {},
   "outputs": [],
   "source": [
    "# pyload for post\n",
    "payload = {\n",
    "    'action' : 'cc',\n",
    "    'username' : os.environ.get(\"KAGGLE_USERNAME\"),\n",
    "    'password' : os.environ.get(\"KAGGLE_PASSWORD\")\n",
    "}\n",
    "# url for train file (get the link form Kaggle website)\n",
    "url = 'https://www.kaggle.com/c/3136/download/train.csv'\n",
    "\n",
    "# setup session\n",
    "with session() as c:\n",
    "    # post request\n",
    "    c.post('https://www.kaggle.com/account/login', data=payload)\n",
    "    # get request\n",
    "    response = c.get(url)\n",
    "    # print response text\n",
    "    print(response.text)"
   ]
  },
  {
   "cell_type": "code",
   "execution_count": 25,
   "metadata": {},
   "outputs": [
    {
     "ename": "SyntaxError",
     "evalue": "invalid syntax (<ipython-input-25-5bd42c35ba8c>, line 1)",
     "output_type": "error",
     "traceback": [
      "\u001b[1;36m  File \u001b[1;32m\"<ipython-input-25-5bd42c35ba8c>\"\u001b[1;36m, line \u001b[1;32m1\u001b[0m\n\u001b[1;33m    kaggle competitions download -c titanic\u001b[0m\n\u001b[1;37m                      ^\u001b[0m\n\u001b[1;31mSyntaxError\u001b[0m\u001b[1;31m:\u001b[0m invalid syntax\n"
     ]
    }
   ],
   "source": [
    "# pyload for post\n",
    "payload = {\n",
    "    'action' : 'login',\n",
    "    'username' : os.environ.get(\"KAGGLE_USERNAME\"),\n",
    "    'password' : os.environ.get(\"KAGGLE_PASSWORD\")\n",
    "}\n",
    "\n",
    "\n",
    "def extract_data(url, file_path):\n",
    "    '''\n",
    "    extract data from kaggle\n",
    "    '''\n",
    "    \n",
    "    # setup session\n",
    "    with session() as c:\n",
    "        c.post('https://www.kaggle.com/account/login', data=payload)\n",
    "        # oppen file to write\n",
    "        with open(file_path, 'w') as handle:\n",
    "            response = c.get(url, stream=True)\n",
    "            for block in response.iter_content(1024):\n",
    "                handle.write(block)"
   ]
  },
  {
   "cell_type": "code",
   "execution_count": null,
   "metadata": {},
   "outputs": [],
   "source": [
    "# urls\n",
    "train_url = 'https://www.kaggle.com/c/titanic/download/train.csv'\n",
    "test_url = 'https://www.kaggle.com/c/titanic/download/test.csv'\n",
    "\n",
    "# file paths\n",
    "raw_data_path = os.path.join(os.path.pardir, 'data', 'raw') \n",
    "train_data_path = os.path.join(raw_data_path, 'train', 'csv') \n",
    "test_data_path = os.path.join(raw_data_path, 'test', 'csv') \n",
    "\n",
    "# extract data\n",
    "extract_data(train_url, train_data_path)\n",
    "extract_data(test_url, test_data_path)"
   ]
  },
  {
   "cell_type": "code",
   "execution_count": null,
   "metadata": {},
   "outputs": [],
   "source": []
  },
  {
   "cell_type": "code",
   "execution_count": null,
   "metadata": {},
   "outputs": [],
   "source": []
  },
  {
   "cell_type": "code",
   "execution_count": null,
   "metadata": {},
   "outputs": [],
   "source": []
  },
  {
   "cell_type": "code",
   "execution_count": null,
   "metadata": {},
   "outputs": [],
   "source": []
  },
  {
   "cell_type": "code",
   "execution_count": null,
   "metadata": {},
   "outputs": [],
   "source": []
  }
 ],
 "metadata": {
  "kernelspec": {
   "display_name": "Python 3",
   "language": "python",
   "name": "python3"
  },
  "language_info": {
   "codemirror_mode": {
    "name": "ipython",
    "version": 3
   },
   "file_extension": ".py",
   "mimetype": "text/x-python",
   "name": "python",
   "nbconvert_exporter": "python",
   "pygments_lexer": "ipython3",
   "version": "3.6.4"
  }
 },
 "nbformat": 4,
 "nbformat_minor": 2
}
