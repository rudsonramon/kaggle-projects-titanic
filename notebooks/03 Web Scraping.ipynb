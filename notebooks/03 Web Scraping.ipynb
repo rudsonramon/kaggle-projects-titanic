{
 "cells": [
  {
   "cell_type": "markdown",
   "metadata": {},
   "source": [
    "## Extracting Data using Web Scraping\n",
    "\n",
    "    ## Referencias:\n",
    "    Pluralsight: Doing Data Science with Python\n",
    "    Imasters: https://imasters.com.br/desenvolvimento/aprendendo-sobre-web-scraping-em-python-utilizando-beautifulsoup/?trace=1519021197&source=single"
   ]
  },
  {
   "cell_type": "code",
   "execution_count": 45,
   "metadata": {},
   "outputs": [],
   "source": [
    "# import\n",
    "import requests\n",
    "from bs4 import BeautifulSoup"
   ]
  },
  {
   "cell_type": "code",
   "execution_count": 46,
   "metadata": {},
   "outputs": [],
   "source": [
    "# HTML String\n",
    "html_string = \"\"\"\n",
    "<!doctype html>\n",
    "<html lang=\"en\">\n",
    "<head>\n",
    "    <title>Doing Data Science With Python</tilte>\n",
    "</head>\n",
    "<body>\n",
    "    <h1 style=\"color:#F15B2A;\">Doing Data Science With Python</h1>\n",
    "    <p id=\"author\">Author : Rudson</p>\n",
    "    <p id=\"description\">This course will help you to perform varios data science activities using python.</p>\n",
    "    \n",
    "    <h3 style=\"color:#404040\">Modules</h3>\n",
    "    <table id=\"module\" style=\"width:100%>\n",
    "        <tr>\n",
    "            <th>Title</th>\n",
    "            <th>Duration (In Minutes)</th>\n",
    "        </tr>\n",
    "        <tr>\n",
    "            <th>Getting Started</th>\n",
    "            <th>20</th>\n",
    "        </tr>\n",
    "        <tr>\n",
    "            <th>Setting up the Environment</th>\n",
    "            <th>40</th>\n",
    "        </tr>\n",
    "        <tr>\n",
    "            <th>Extracting Data</th>\n",
    "            <th>35</th>\n",
    "        </tr>\n",
    "        <tr>\n",
    "            <th>Exploring and Procesing Data - Part1</th>\n",
    "            <th>45</th>\n",
    "        </tr>\n",
    "        <tr>\n",
    "            <th>Exploring and Procesing Data - Part2</th>\n",
    "            <th>45</th>\n",
    "        </tr>\n",
    "        <tr>\n",
    "            <th>Building Predictive Model</th>\n",
    "            <th>30</th>\n",
    "        </tr>\n",
    "    </table>\n",
    "</body>\n",
    "</html>\n",
    "\"\"\""
   ]
  },
  {
   "cell_type": "code",
   "execution_count": 47,
   "metadata": {},
   "outputs": [
    {
     "data": {
      "text/html": [
       "\n",
       "<!doctype html>\n",
       "<html lang=\"en\">\n",
       "<head>\n",
       "    <title>Doing Data Science With Python</tilte>\n",
       "</head>\n",
       "<body>\n",
       "    <h1 style=\"color:#F15B2A;\">Doing Data Science With Python</h1>\n",
       "    <p id=\"author\">Author : Rudson</p>\n",
       "    <p id=\"description\">This course will help you to perform varios data science activities using python.</p>\n",
       "    \n",
       "    <h3 style=\"color:#404040\">Modules</h3>\n",
       "    <table id=\"module\" style=\"width:100%>\n",
       "        <tr>\n",
       "            <th>Title</th>\n",
       "            <th>Duration (In Minutes)</th>\n",
       "        </tr>\n",
       "        <tr>\n",
       "            <th>Getting Started</th>\n",
       "            <th>20</th>\n",
       "        </tr>\n",
       "        <tr>\n",
       "            <th>Setting up the Environment</th>\n",
       "            <th>40</th>\n",
       "        </tr>\n",
       "        <tr>\n",
       "            <th>Extracting Data</th>\n",
       "            <th>35</th>\n",
       "        </tr>\n",
       "        <tr>\n",
       "            <th>Exploring and Procesing Data - Part1</th>\n",
       "            <th>45</th>\n",
       "        </tr>\n",
       "        <tr>\n",
       "            <th>Exploring and Procesing Data - Part2</th>\n",
       "            <th>45</th>\n",
       "        </tr>\n",
       "        <tr>\n",
       "            <th>Building Predictive Model</th>\n",
       "            <th>30</th>\n",
       "        </tr>\n",
       "    </table>\n",
       "</body>\n",
       "</html>\n"
      ],
      "text/plain": [
       "<IPython.core.display.HTML object>"
      ]
     },
     "metadata": {},
     "output_type": "display_data"
    }
   ],
   "source": [
    "# display HTML string in the jupyter notebook\n",
    "from IPython.core.display import display, HTML\n",
    "display(HTML(html_string))"
   ]
  },
  {
   "cell_type": "code",
   "execution_count": 48,
   "metadata": {},
   "outputs": [],
   "source": [
    "# use beautiful soup\n",
    "ps = BeautifulSoup(html_string, \"html.parser\")"
   ]
  },
  {
   "cell_type": "code",
   "execution_count": 49,
   "metadata": {},
   "outputs": [
    {
     "name": "stdout",
     "output_type": "stream",
     "text": [
      "\n",
      "<!DOCTYPE doctype html>\n",
      "\n",
      "<html lang=\"en\">\n",
      "<head>\n",
      "<title>Doing Data Science With Python</title></head></html>\n",
      "\n",
      "<body>\n",
      "<h1 style=\"color:#F15B2A;\">Doing Data Science With Python</h1>\n",
      "<p id=\"author\">Author : Rudson</p>\n",
      "<p id=\"description\">This course will help you to perform varios data science activities using python.</p>\n",
      "<h3 style=\"color:#404040\">Modules</h3>\n",
      "</body>\n"
     ]
    }
   ],
   "source": [
    "# print b\n",
    "print(ps)"
   ]
  },
  {
   "cell_type": "code",
   "execution_count": 50,
   "metadata": {},
   "outputs": [],
   "source": [
    "# use name parameter to select by tag name (SELCIONAR O BODY DO DOCUMENTO HTML)\n",
    "body = ps.find(name=\"body\")"
   ]
  },
  {
   "cell_type": "code",
   "execution_count": 51,
   "metadata": {},
   "outputs": [
    {
     "name": "stdout",
     "output_type": "stream",
     "text": [
      "<body>\n",
      "<h1 style=\"color:#F15B2A;\">Doing Data Science With Python</h1>\n",
      "<p id=\"author\">Author : Rudson</p>\n",
      "<p id=\"description\">This course will help you to perform varios data science activities using python.</p>\n",
      "<h3 style=\"color:#404040\">Modules</h3>\n",
      "</body>\n"
     ]
    }
   ],
   "source": [
    "print(body)"
   ]
  },
  {
   "cell_type": "code",
   "execution_count": 52,
   "metadata": {},
   "outputs": [
    {
     "name": "stdout",
     "output_type": "stream",
     "text": [
      "Doing Data Science With Python\n"
     ]
    }
   ],
   "source": [
    "# use text attribute to get the content of the tag\n",
    "print(body.find(name=\"h1\").text)"
   ]
  },
  {
   "cell_type": "code",
   "execution_count": 53,
   "metadata": {},
   "outputs": [
    {
     "name": "stdout",
     "output_type": "stream",
     "text": [
      "<p id=\"author\">Author : Rudson</p>\n"
     ]
    }
   ],
   "source": [
    "# get first element\n",
    "print(body.find(name=\"p\"))"
   ]
  },
  {
   "cell_type": "code",
   "execution_count": 54,
   "metadata": {},
   "outputs": [
    {
     "name": "stdout",
     "output_type": "stream",
     "text": [
      "Author : Rudson\n",
      "This course will help you to perform varios data science activities using python.\n"
     ]
    }
   ],
   "source": [
    "# loop through each element\n",
    "for p in body.findAll(name=\"p\"):\n",
    "    print(p.text)"
   ]
  },
  {
   "cell_type": "code",
   "execution_count": 55,
   "metadata": {},
   "outputs": [
    {
     "name": "stdout",
     "output_type": "stream",
     "text": [
      "<p id=\"author\">Author : Rudson</p>\n"
     ]
    }
   ],
   "source": [
    "# add attributes in the selection process\n",
    "print(body.find(name='p', attrs={\"id\":\"author\"}))"
   ]
  },
  {
   "cell_type": "code",
   "execution_count": 56,
   "metadata": {},
   "outputs": [
    {
     "name": "stdout",
     "output_type": "stream",
     "text": [
      "<p id=\"description\">This course will help you to perform varios data science activities using python.</p>\n"
     ]
    }
   ],
   "source": [
    "print(body.find(name='p', attrs={\"id\":\"description\"}))"
   ]
  },
  {
   "cell_type": "code",
   "execution_count": 57,
   "metadata": {},
   "outputs": [
    {
     "ename": "AttributeError",
     "evalue": "'NoneType' object has no attribute 'findAll'",
     "output_type": "error",
     "traceback": [
      "\u001b[1;31m---------------------------------------------------------------------------\u001b[0m",
      "\u001b[1;31mAttributeError\u001b[0m                            Traceback (most recent call last)",
      "\u001b[1;32m<ipython-input-57-bc5f190fcbc5>\u001b[0m in \u001b[0;36m<module>\u001b[1;34m()\u001b[0m\n\u001b[0;32m      3\u001b[0m \u001b[0mmodule_table\u001b[0m \u001b[1;33m=\u001b[0m \u001b[0mbody\u001b[0m\u001b[1;33m.\u001b[0m\u001b[0mfind\u001b[0m\u001b[1;33m(\u001b[0m\u001b[0mname\u001b[0m\u001b[1;33m=\u001b[0m\u001b[1;34m'table'\u001b[0m\u001b[1;33m,\u001b[0m \u001b[0mattrs\u001b[0m\u001b[1;33m=\u001b[0m\u001b[1;33m{\u001b[0m\u001b[1;34m\"id\"\u001b[0m\u001b[1;33m:\u001b[0m\u001b[1;34m\"module\"\u001b[0m\u001b[1;33m}\u001b[0m\u001b[1;33m)\u001b[0m\u001b[1;33m\u001b[0m\u001b[0m\n\u001b[0;32m      4\u001b[0m \u001b[1;31m# iterate through each row in the table (skipping the first row)\u001b[0m\u001b[1;33m\u001b[0m\u001b[1;33m\u001b[0m\u001b[0m\n\u001b[1;32m----> 5\u001b[1;33m \u001b[1;32mfor\u001b[0m \u001b[0mrow\u001b[0m \u001b[1;32min\u001b[0m \u001b[0mmodule_table\u001b[0m\u001b[1;33m.\u001b[0m\u001b[0mfindAll\u001b[0m\u001b[1;33m(\u001b[0m\u001b[0mname\u001b[0m\u001b[1;33m=\u001b[0m\u001b[1;34m'tr'\u001b[0m\u001b[1;33m)\u001b[0m\u001b[1;33m[\u001b[0m\u001b[1;36m1\u001b[0m\u001b[1;33m:\u001b[0m\u001b[1;33m]\u001b[0m\u001b[1;33m:\u001b[0m\u001b[1;33m\u001b[0m\u001b[0m\n\u001b[0m\u001b[0;32m      6\u001b[0m     \u001b[1;31m# module title\u001b[0m\u001b[1;33m\u001b[0m\u001b[1;33m\u001b[0m\u001b[0m\n\u001b[0;32m      7\u001b[0m     \u001b[0mtitle\u001b[0m \u001b[1;33m=\u001b[0m \u001b[0mrow\u001b[0m\u001b[1;33m.\u001b[0m\u001b[0mfindAll\u001b[0m\u001b[1;33m(\u001b[0m\u001b[0mname\u001b[0m\u001b[1;33m=\u001b[0m\u001b[1;34m'td'\u001b[0m\u001b[1;33m)\u001b[0m\u001b[1;33m[\u001b[0m\u001b[1;36m0\u001b[0m\u001b[1;33m]\u001b[0m\u001b[1;33m.\u001b[0m\u001b[0mtext\u001b[0m\u001b[1;33m\u001b[0m\u001b[0m\n",
      "\u001b[1;31mAttributeError\u001b[0m: 'NoneType' object has no attribute 'findAll'"
     ]
    }
   ],
   "source": [
    "# body\n",
    "body = ps.find(name=\"body\")\n",
    "module_table = body.find(name='table', attrs={\"id\":\"module\"})\n",
    "# iterate through each row in the table (skipping the first row)\n",
    "for row in module_table.findAll(name='tr')[1:]:\n",
    "    # module title\n",
    "    title = row.findAll(name='td')[0].text\n",
    "    # module duration\n",
    "    duration = int(row.findAll(name='td')[1].text)\n",
    "    print(title, duration)"
   ]
  },
  {
   "cell_type": "code",
   "execution_count": null,
   "metadata": {},
   "outputs": [],
   "source": []
  }
 ],
 "metadata": {
  "kernelspec": {
   "display_name": "Python 3",
   "language": "python",
   "name": "python3"
  },
  "language_info": {
   "codemirror_mode": {
    "name": "ipython",
    "version": 3
   },
   "file_extension": ".py",
   "mimetype": "text/x-python",
   "name": "python",
   "nbconvert_exporter": "python",
   "pygments_lexer": "ipython3",
   "version": "3.6.4"
  }
 },
 "nbformat": 4,
 "nbformat_minor": 2
}
